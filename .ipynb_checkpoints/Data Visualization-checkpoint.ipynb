{
 "cells": [
  {
   "cell_type": "code",
   "execution_count": 80,
   "metadata": {},
   "outputs": [],
   "source": [
    "import numpy as np\n",
    "import pandas as pd"
   ]
  },
  {
   "cell_type": "code",
   "execution_count": 81,
   "metadata": {},
   "outputs": [],
   "source": [
    "import matplotlib.pyplot as plt\n",
    "import seaborn as sns\n",
    "sns.set_style('whitegrid')\n",
    "%matplotlib inline"
   ]
  },
  {
   "cell_type": "code",
   "execution_count": 82,
   "metadata": {},
   "outputs": [],
   "source": [
    "df = pd.read_csv('fish_tissues.csv')"
   ]
  },
  {
   "cell_type": "code",
   "execution_count": 83,
   "metadata": {},
   "outputs": [],
   "source": [
    "# Me (mg/kg dw)"
   ]
  },
  {
   "cell_type": "code",
   "execution_count": 84,
   "metadata": {},
   "outputs": [
    {
     "data": {
      "text/html": [
       "<div>\n",
       "<style scoped>\n",
       "    .dataframe tbody tr th:only-of-type {\n",
       "        vertical-align: middle;\n",
       "    }\n",
       "\n",
       "    .dataframe tbody tr th {\n",
       "        vertical-align: top;\n",
       "    }\n",
       "\n",
       "    .dataframe thead th {\n",
       "        text-align: right;\n",
       "    }\n",
       "</style>\n",
       "<table border=\"1\" class=\"dataframe\">\n",
       "  <thead>\n",
       "    <tr style=\"text-align: right;\">\n",
       "      <th></th>\n",
       "      <th>Species</th>\n",
       "      <th>Season</th>\n",
       "      <th>Organ</th>\n",
       "      <th>Fish weight (g)</th>\n",
       "      <th>Fish length (cm)</th>\n",
       "      <th>Al</th>\n",
       "      <th>As</th>\n",
       "      <th>Cd</th>\n",
       "      <th>Cr</th>\n",
       "      <th>Cu</th>\n",
       "      <th>Fe</th>\n",
       "      <th>Mn</th>\n",
       "      <th>Pb</th>\n",
       "      <th>Sb</th>\n",
       "      <th>Se</th>\n",
       "      <th>Sr</th>\n",
       "      <th>Zn</th>\n",
       "    </tr>\n",
       "  </thead>\n",
       "  <tbody>\n",
       "    <tr>\n",
       "      <th>0</th>\n",
       "      <td>Oreochromis mossambicus</td>\n",
       "      <td>Summer</td>\n",
       "      <td>Liver</td>\n",
       "      <td>149.57</td>\n",
       "      <td>20.3</td>\n",
       "      <td>298.34</td>\n",
       "      <td>1.4807</td>\n",
       "      <td>0.8742</td>\n",
       "      <td>3.5867</td>\n",
       "      <td>432.91</td>\n",
       "      <td>1261.0</td>\n",
       "      <td>14.5030</td>\n",
       "      <td>0.8226</td>\n",
       "      <td>0.1626</td>\n",
       "      <td>7.4810</td>\n",
       "      <td>0.7701</td>\n",
       "      <td>72.195</td>\n",
       "    </tr>\n",
       "    <tr>\n",
       "      <th>1</th>\n",
       "      <td>Oreochromis mossambicus</td>\n",
       "      <td>Summer</td>\n",
       "      <td>Liver</td>\n",
       "      <td>119.85</td>\n",
       "      <td>18.1</td>\n",
       "      <td>245.37</td>\n",
       "      <td>NaN</td>\n",
       "      <td>1.4131</td>\n",
       "      <td>NaN</td>\n",
       "      <td>732.32</td>\n",
       "      <td>1314.8</td>\n",
       "      <td>23.1480</td>\n",
       "      <td>4.0840</td>\n",
       "      <td>0.5853</td>\n",
       "      <td>17.2130</td>\n",
       "      <td>2.1098</td>\n",
       "      <td>99.404</td>\n",
       "    </tr>\n",
       "    <tr>\n",
       "      <th>2</th>\n",
       "      <td>Oreochromis mossambicus</td>\n",
       "      <td>Summer</td>\n",
       "      <td>Liver</td>\n",
       "      <td>139.33</td>\n",
       "      <td>19.9</td>\n",
       "      <td>237.57</td>\n",
       "      <td>3.8825</td>\n",
       "      <td>2.0186</td>\n",
       "      <td>NaN</td>\n",
       "      <td>584.05</td>\n",
       "      <td>1498.8</td>\n",
       "      <td>26.2010</td>\n",
       "      <td>2.1463</td>\n",
       "      <td>2.5697</td>\n",
       "      <td>29.8360</td>\n",
       "      <td>2.5571</td>\n",
       "      <td>73.702</td>\n",
       "    </tr>\n",
       "    <tr>\n",
       "      <th>3</th>\n",
       "      <td>Oreochromis mossambicus</td>\n",
       "      <td>Summer</td>\n",
       "      <td>Liver</td>\n",
       "      <td>749.73</td>\n",
       "      <td>35.5</td>\n",
       "      <td>721.51</td>\n",
       "      <td>4.3970</td>\n",
       "      <td>3.9979</td>\n",
       "      <td>0.7958</td>\n",
       "      <td>1045.40</td>\n",
       "      <td>3676.0</td>\n",
       "      <td>30.4660</td>\n",
       "      <td>1.6432</td>\n",
       "      <td>1.4461</td>\n",
       "      <td>24.6410</td>\n",
       "      <td>0.8957</td>\n",
       "      <td>73.003</td>\n",
       "    </tr>\n",
       "    <tr>\n",
       "      <th>4</th>\n",
       "      <td>Oreochromis mossambicus</td>\n",
       "      <td>Summer</td>\n",
       "      <td>Liver</td>\n",
       "      <td>648.80</td>\n",
       "      <td>33.5</td>\n",
       "      <td>387.25</td>\n",
       "      <td>0.7793</td>\n",
       "      <td>0.3203</td>\n",
       "      <td>NaN</td>\n",
       "      <td>225.92</td>\n",
       "      <td>1099.5</td>\n",
       "      <td>9.8959</td>\n",
       "      <td>0.5223</td>\n",
       "      <td>0.1447</td>\n",
       "      <td>4.8986</td>\n",
       "      <td>0.3194</td>\n",
       "      <td>31.974</td>\n",
       "    </tr>\n",
       "  </tbody>\n",
       "</table>\n",
       "</div>"
      ],
      "text/plain": [
       "                   Species  Season  Organ  Fish weight (g)  Fish length (cm)  \\\n",
       "0  Oreochromis mossambicus  Summer  Liver           149.57              20.3   \n",
       "1  Oreochromis mossambicus  Summer  Liver           119.85              18.1   \n",
       "2  Oreochromis mossambicus  Summer  Liver           139.33              19.9   \n",
       "3  Oreochromis mossambicus  Summer  Liver           749.73              35.5   \n",
       "4  Oreochromis mossambicus  Summer  Liver           648.80              33.5   \n",
       "\n",
       "       Al      As      Cd      Cr       Cu      Fe       Mn      Pb     Sb   \\\n",
       "0  298.34  1.4807  0.8742  3.5867   432.91  1261.0  14.5030  0.8226  0.1626   \n",
       "1  245.37     NaN  1.4131     NaN   732.32  1314.8  23.1480  4.0840  0.5853   \n",
       "2  237.57  3.8825  2.0186     NaN   584.05  1498.8  26.2010  2.1463  2.5697   \n",
       "3  721.51  4.3970  3.9979  0.7958  1045.40  3676.0  30.4660  1.6432  1.4461   \n",
       "4  387.25  0.7793  0.3203     NaN   225.92  1099.5   9.8959  0.5223  0.1447   \n",
       "\n",
       "        Se      Sr      Zn  \n",
       "0   7.4810  0.7701  72.195  \n",
       "1  17.2130  2.1098  99.404  \n",
       "2  29.8360  2.5571  73.702  \n",
       "3  24.6410  0.8957  73.003  \n",
       "4   4.8986  0.3194  31.974  "
      ]
     },
     "execution_count": 84,
     "metadata": {},
     "output_type": "execute_result"
    }
   ],
   "source": [
    "df.head()"
   ]
  },
  {
   "cell_type": "code",
   "execution_count": 93,
   "metadata": {
    "scrolled": true
   },
   "outputs": [
    {
     "data": {
      "text/plain": [
       "<AxesSubplot:xlabel='Organ', ylabel='Al'>"
      ]
     },
     "execution_count": 93,
     "metadata": {},
     "output_type": "execute_result"
    },
    {
     "data": {
      "image/png": "[encoded data removed]",
      "text/plain": [
       "<Figure size 432x288 with 1 Axes>"
      ]
     },
     "metadata": {
      "needs_background": "light"
     },
     "output_type": "display_data"
    }
   ],
   "source": [
    "sns.violinplot(x='Organ',y='Al',data=df, hue='Species',split=True)"
   ]
  },
  {
   "cell_type": "code",
   "execution_count": null,
   "metadata": {},
   "outputs": [],
   "source": []
  },
  {
   "cell_type": "code",
   "execution_count": null,
   "metadata": {},
   "outputs": [],
   "source": []
  },
  {
   "cell_type": "code",
   "execution_count": null,
   "metadata": {},
   "outputs": [],
   "source": []
  },
  {
   "cell_type": "code",
   "execution_count": null,
   "metadata": {},
   "outputs": [],
   "source": []
  }
 ],
 "metadata": {
  "kernelspec": {
   "display_name": "Python 3",
   "language": "python",
   "name": "python3"
  },
  "language_info": {
   "codemirror_mode": {
    "name": "ipython",
    "version": 3
   },
   "file_extension": ".py",
   "mimetype": "text/x-python",
   "name": "python",
   "nbconvert_exporter": "python",
   "pygments_lexer": "ipython3",
   "version": "3.7.7"
  }
 },
 "nbformat": 4,
 "nbformat_minor": 4
}
