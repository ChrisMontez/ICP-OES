{
 "cells": [
  {
   "cell_type": "code",
   "execution_count": 159,
   "metadata": {},
   "outputs": [],
   "source": [
    "import numpy as np\n",
    "import pandas as pd"
   ]
  },
  {
   "cell_type": "code",
   "execution_count": 160,
   "metadata": {},
   "outputs": [],
   "source": [
    "import matplotlib.pyplot as plt\n",
    "import seaborn as sns\n",
    "sns.set_style('whitegrid')\n",
    "%matplotlib inline"
   ]
  },
  {
   "cell_type": "code",
   "execution_count": 161,
   "metadata": {},
   "outputs": [],
   "source": [
    "df = pd.read_csv('fish_tissues.csv')"
   ]
  },
  {
   "cell_type": "code",
   "execution_count": 162,
   "metadata": {},
   "outputs": [
    {
     "name": "stdout",
     "output_type": "stream",
     "text": [
      "<class 'pandas.core.frame.DataFrame'>\n",
      "RangeIndex: 116 entries, 0 to 115\n",
      "Data columns (total 17 columns):\n",
      " #   Column            Non-Null Count  Dtype  \n",
      "---  ------            --------------  -----  \n",
      " 0   Species           116 non-null    object \n",
      " 1   Season            116 non-null    object \n",
      " 2   Organ             116 non-null    object \n",
      " 3   Fish weight (g)   116 non-null    float64\n",
      " 4   Fish length (cm)  116 non-null    float64\n",
      " 5   Al                116 non-null    float64\n",
      " 6   As                84 non-null     float64\n",
      " 7   Cd                100 non-null    float64\n",
      " 8   Cr                105 non-null    float64\n",
      " 9   Cu                114 non-null    float64\n",
      " 10  Fe                116 non-null    float64\n",
      " 11  Mn                101 non-null    float64\n",
      " 12  Pb                106 non-null    float64\n",
      " 13  Sb                65 non-null     float64\n",
      " 14  Se                81 non-null     float64\n",
      " 15  Sr                116 non-null    float64\n",
      " 16  Zn                116 non-null    float64\n",
      "dtypes: float64(14), object(3)\n",
      "memory usage: 15.5+ KB\n"
     ]
    }
   ],
   "source": [
    "df.info()"
   ]
  },
  {
   "cell_type": "code",
   "execution_count": 163,
   "metadata": {},
   "outputs": [],
   "source": [
    "all_metals = ['Al','As','Cd','Cr','Cu','Fe','Mn','Pb','Sb','Se','Sr','Zn']"
   ]
  },
  {
   "cell_type": "code",
   "execution_count": 164,
   "metadata": {
    "scrolled": false
   },
   "outputs": [
    {
     "data": {
      "text/html": [
       "<div>\n",
       "<style scoped>\n",
       "    .dataframe tbody tr th:only-of-type {\n",
       "        vertical-align: middle;\n",
       "    }\n",
       "\n",
       "    .dataframe tbody tr th {\n",
       "        vertical-align: top;\n",
       "    }\n",
       "\n",
       "    .dataframe thead tr th {\n",
       "        text-align: left;\n",
       "    }\n",
       "\n",
       "    .dataframe thead tr:last-of-type th {\n",
       "        text-align: right;\n",
       "    }\n",
       "</style>\n",
       "<table border=\"1\" class=\"dataframe\">\n",
       "  <thead>\n",
       "    <tr>\n",
       "      <th></th>\n",
       "      <th></th>\n",
       "      <th colspan=\"2\" halign=\"left\">Al</th>\n",
       "      <th colspan=\"2\" halign=\"left\">As</th>\n",
       "      <th colspan=\"2\" halign=\"left\">Cd</th>\n",
       "      <th colspan=\"2\" halign=\"left\">Cr</th>\n",
       "      <th colspan=\"2\" halign=\"left\">Cu</th>\n",
       "      <th>...</th>\n",
       "      <th colspan=\"2\" halign=\"left\">Pb</th>\n",
       "      <th colspan=\"2\" halign=\"left\">Sb</th>\n",
       "      <th colspan=\"2\" halign=\"left\">Se</th>\n",
       "      <th colspan=\"2\" halign=\"left\">Sr</th>\n",
       "      <th colspan=\"2\" halign=\"left\">Zn</th>\n",
       "    </tr>\n",
       "    <tr>\n",
       "      <th></th>\n",
       "      <th>Species</th>\n",
       "      <th>Labeo rosa</th>\n",
       "      <th>Oreochromis mossambicus</th>\n",
       "      <th>Labeo rosa</th>\n",
       "      <th>Oreochromis mossambicus</th>\n",
       "      <th>Labeo rosa</th>\n",
       "      <th>Oreochromis mossambicus</th>\n",
       "      <th>Labeo rosa</th>\n",
       "      <th>Oreochromis mossambicus</th>\n",
       "      <th>Labeo rosa</th>\n",
       "      <th>Oreochromis mossambicus</th>\n",
       "      <th>...</th>\n",
       "      <th>Labeo rosa</th>\n",
       "      <th>Oreochromis mossambicus</th>\n",
       "      <th>Labeo rosa</th>\n",
       "      <th>Oreochromis mossambicus</th>\n",
       "      <th>Labeo rosa</th>\n",
       "      <th>Oreochromis mossambicus</th>\n",
       "      <th>Labeo rosa</th>\n",
       "      <th>Oreochromis mossambicus</th>\n",
       "      <th>Labeo rosa</th>\n",
       "      <th>Oreochromis mossambicus</th>\n",
       "    </tr>\n",
       "    <tr>\n",
       "      <th>Season</th>\n",
       "      <th>Organ</th>\n",
       "      <th></th>\n",
       "      <th></th>\n",
       "      <th></th>\n",
       "      <th></th>\n",
       "      <th></th>\n",
       "      <th></th>\n",
       "      <th></th>\n",
       "      <th></th>\n",
       "      <th></th>\n",
       "      <th></th>\n",
       "      <th></th>\n",
       "      <th></th>\n",
       "      <th></th>\n",
       "      <th></th>\n",
       "      <th></th>\n",
       "      <th></th>\n",
       "      <th></th>\n",
       "      <th></th>\n",
       "      <th></th>\n",
       "      <th></th>\n",
       "      <th></th>\n",
       "    </tr>\n",
       "  </thead>\n",
       "  <tbody>\n",
       "    <tr>\n",
       "      <th rowspan=\"3\" valign=\"top\">Summer</th>\n",
       "      <th>Gill</th>\n",
       "      <td>236.545000</td>\n",
       "      <td>339.597000</td>\n",
       "      <td>1.933567</td>\n",
       "      <td>1.466300</td>\n",
       "      <td>0.030733</td>\n",
       "      <td>0.022033</td>\n",
       "      <td>0.918500</td>\n",
       "      <td>1.275810</td>\n",
       "      <td>1.993175</td>\n",
       "      <td>2.600200</td>\n",
       "      <td>...</td>\n",
       "      <td>0.827000</td>\n",
       "      <td>1.181900</td>\n",
       "      <td>0.126167</td>\n",
       "      <td>0.486020</td>\n",
       "      <td>2.671400</td>\n",
       "      <td>4.359770</td>\n",
       "      <td>281.952500</td>\n",
       "      <td>142.668400</td>\n",
       "      <td>177.948750</td>\n",
       "      <td>65.186500</td>\n",
       "    </tr>\n",
       "    <tr>\n",
       "      <th>Liver</th>\n",
       "      <td>218.918444</td>\n",
       "      <td>426.310000</td>\n",
       "      <td>0.756700</td>\n",
       "      <td>2.480033</td>\n",
       "      <td>1.194656</td>\n",
       "      <td>1.312020</td>\n",
       "      <td>0.495537</td>\n",
       "      <td>2.137933</td>\n",
       "      <td>501.474478</td>\n",
       "      <td>510.596000</td>\n",
       "      <td>...</td>\n",
       "      <td>0.415338</td>\n",
       "      <td>1.673257</td>\n",
       "      <td>0.311200</td>\n",
       "      <td>0.904157</td>\n",
       "      <td>22.496375</td>\n",
       "      <td>19.121050</td>\n",
       "      <td>1.550256</td>\n",
       "      <td>1.394630</td>\n",
       "      <td>153.405333</td>\n",
       "      <td>73.023300</td>\n",
       "    </tr>\n",
       "    <tr>\n",
       "      <th>Muscle</th>\n",
       "      <td>17.839100</td>\n",
       "      <td>13.631000</td>\n",
       "      <td>0.832120</td>\n",
       "      <td>0.135433</td>\n",
       "      <td>0.018063</td>\n",
       "      <td>0.003850</td>\n",
       "      <td>0.559350</td>\n",
       "      <td>0.452970</td>\n",
       "      <td>0.483430</td>\n",
       "      <td>1.061190</td>\n",
       "      <td>...</td>\n",
       "      <td>0.070950</td>\n",
       "      <td>0.021050</td>\n",
       "      <td>0.131014</td>\n",
       "      <td>0.008700</td>\n",
       "      <td>2.974175</td>\n",
       "      <td>2.337962</td>\n",
       "      <td>9.913200</td>\n",
       "      <td>0.754030</td>\n",
       "      <td>25.566200</td>\n",
       "      <td>21.843300</td>\n",
       "    </tr>\n",
       "    <tr>\n",
       "      <th rowspan=\"3\" valign=\"top\">Winter</th>\n",
       "      <th>Gill</th>\n",
       "      <td>336.241000</td>\n",
       "      <td>473.038000</td>\n",
       "      <td>1.463240</td>\n",
       "      <td>0.889333</td>\n",
       "      <td>0.018300</td>\n",
       "      <td>0.033467</td>\n",
       "      <td>0.657633</td>\n",
       "      <td>0.769170</td>\n",
       "      <td>1.350550</td>\n",
       "      <td>1.575580</td>\n",
       "      <td>...</td>\n",
       "      <td>0.545960</td>\n",
       "      <td>1.816730</td>\n",
       "      <td>0.150580</td>\n",
       "      <td>0.171400</td>\n",
       "      <td>4.203450</td>\n",
       "      <td>5.393983</td>\n",
       "      <td>299.776000</td>\n",
       "      <td>144.878000</td>\n",
       "      <td>173.347000</td>\n",
       "      <td>55.798400</td>\n",
       "    </tr>\n",
       "    <tr>\n",
       "      <th>Liver</th>\n",
       "      <td>1190.292000</td>\n",
       "      <td>2109.330000</td>\n",
       "      <td>1.466370</td>\n",
       "      <td>0.270400</td>\n",
       "      <td>0.738200</td>\n",
       "      <td>1.214100</td>\n",
       "      <td>0.844100</td>\n",
       "      <td>0.388289</td>\n",
       "      <td>344.229780</td>\n",
       "      <td>515.170200</td>\n",
       "      <td>...</td>\n",
       "      <td>0.290240</td>\n",
       "      <td>0.573710</td>\n",
       "      <td>0.489411</td>\n",
       "      <td>0.462500</td>\n",
       "      <td>20.819760</td>\n",
       "      <td>18.563160</td>\n",
       "      <td>0.840150</td>\n",
       "      <td>0.517100</td>\n",
       "      <td>106.407100</td>\n",
       "      <td>67.266600</td>\n",
       "    </tr>\n",
       "    <tr>\n",
       "      <th>Muscle</th>\n",
       "      <td>31.626900</td>\n",
       "      <td>18.855633</td>\n",
       "      <td>0.296070</td>\n",
       "      <td>0.787978</td>\n",
       "      <td>0.020640</td>\n",
       "      <td>0.017957</td>\n",
       "      <td>0.253456</td>\n",
       "      <td>0.140933</td>\n",
       "      <td>0.990230</td>\n",
       "      <td>0.749044</td>\n",
       "      <td>...</td>\n",
       "      <td>0.175910</td>\n",
       "      <td>0.048600</td>\n",
       "      <td>0.090550</td>\n",
       "      <td>0.158800</td>\n",
       "      <td>3.675871</td>\n",
       "      <td>1.510360</td>\n",
       "      <td>10.864460</td>\n",
       "      <td>1.184033</td>\n",
       "      <td>23.629400</td>\n",
       "      <td>18.820667</td>\n",
       "    </tr>\n",
       "  </tbody>\n",
       "</table>\n",
       "<p>6 rows × 24 columns</p>\n",
       "</div>"
      ],
      "text/plain": [
       "                        Al                                 As  \\\n",
       "Species         Labeo rosa Oreochromis mossambicus Labeo rosa   \n",
       "Season Organ                                                    \n",
       "Summer Gill     236.545000              339.597000   1.933567   \n",
       "       Liver    218.918444              426.310000   0.756700   \n",
       "       Muscle    17.839100               13.631000   0.832120   \n",
       "Winter Gill     336.241000              473.038000   1.463240   \n",
       "       Liver   1190.292000             2109.330000   1.466370   \n",
       "       Muscle    31.626900               18.855633   0.296070   \n",
       "\n",
       "                                              Cd                          \\\n",
       "Species       Oreochromis mossambicus Labeo rosa Oreochromis mossambicus   \n",
       "Season Organ                                                               \n",
       "Summer Gill                  1.466300   0.030733                0.022033   \n",
       "       Liver                 2.480033   1.194656                1.312020   \n",
       "       Muscle                0.135433   0.018063                0.003850   \n",
       "Winter Gill                  0.889333   0.018300                0.033467   \n",
       "       Liver                 0.270400   0.738200                1.214100   \n",
       "       Muscle                0.787978   0.020640                0.017957   \n",
       "\n",
       "                      Cr                                  Cu  \\\n",
       "Species       Labeo rosa Oreochromis mossambicus  Labeo rosa   \n",
       "Season Organ                                                   \n",
       "Summer Gill     0.918500                1.275810    1.993175   \n",
       "       Liver    0.495537                2.137933  501.474478   \n",
       "       Muscle   0.559350                0.452970    0.483430   \n",
       "Winter Gill     0.657633                0.769170    1.350550   \n",
       "       Liver    0.844100                0.388289  344.229780   \n",
       "       Muscle   0.253456                0.140933    0.990230   \n",
       "\n",
       "                                       ...         Pb                          \\\n",
       "Species       Oreochromis mossambicus  ... Labeo rosa Oreochromis mossambicus   \n",
       "Season Organ                           ...                                      \n",
       "Summer Gill                  2.600200  ...   0.827000                1.181900   \n",
       "       Liver               510.596000  ...   0.415338                1.673257   \n",
       "       Muscle                1.061190  ...   0.070950                0.021050   \n",
       "Winter Gill                  1.575580  ...   0.545960                1.816730   \n",
       "       Liver               515.170200  ...   0.290240                0.573710   \n",
       "       Muscle                0.749044  ...   0.175910                0.048600   \n",
       "\n",
       "                      Sb                                 Se  \\\n",
       "Species       Labeo rosa Oreochromis mossambicus Labeo rosa   \n",
       "Season Organ                                                  \n",
       "Summer Gill     0.126167                0.486020   2.671400   \n",
       "       Liver    0.311200                0.904157  22.496375   \n",
       "       Muscle   0.131014                0.008700   2.974175   \n",
       "Winter Gill     0.150580                0.171400   4.203450   \n",
       "       Liver    0.489411                0.462500  20.819760   \n",
       "       Muscle   0.090550                0.158800   3.675871   \n",
       "\n",
       "                                               Sr                          \\\n",
       "Species       Oreochromis mossambicus  Labeo rosa Oreochromis mossambicus   \n",
       "Season Organ                                                                \n",
       "Summer Gill                  4.359770  281.952500              142.668400   \n",
       "       Liver                19.121050    1.550256                1.394630   \n",
       "       Muscle                2.337962    9.913200                0.754030   \n",
       "Winter Gill                  5.393983  299.776000              144.878000   \n",
       "       Liver                18.563160    0.840150                0.517100   \n",
       "       Muscle                1.510360   10.864460                1.184033   \n",
       "\n",
       "                       Zn                          \n",
       "Species        Labeo rosa Oreochromis mossambicus  \n",
       "Season Organ                                       \n",
       "Summer Gill    177.948750               65.186500  \n",
       "       Liver   153.405333               73.023300  \n",
       "       Muscle   25.566200               21.843300  \n",
       "Winter Gill    173.347000               55.798400  \n",
       "       Liver   106.407100               67.266600  \n",
       "       Muscle   23.629400               18.820667  \n",
       "\n",
       "[6 rows x 24 columns]"
      ]
     },
     "execution_count": 164,
     "metadata": {},
     "output_type": "execute_result"
    }
   ],
   "source": [
    "pd.pivot_table(df, values = all_metals, index = ['Season', 'Organ',], columns = 'Species')"
   ]
  },
  {
   "cell_type": "code",
   "execution_count": 232,
   "metadata": {},
   "outputs": [],
   "source": [
    "species_organ_LR = df[df['Species'] == 'Labeo rosa'].groupby('Organ')\n",
    "species_organ_OM = df[df['Species'] == 'Oreochromis mossambicus'].groupby('Organ')\n",
    "OM_Gill = df[(df['Species'] == 'Oreochromis mossambicus') & (df['Organ'] == 'Gill') ] \n",
    "OM_Liver = df[(df['Species'] == 'Oreochromis mossambicus') & (df['Organ'] == 'Liver') ] \n",
    "OM_Muscle = df[(df['Species'] == 'Oreochromis mossambicus') & (df['Organ'] == 'Muscle') ] "
   ]
  },
  {
   "cell_type": "code",
   "execution_count": 233,
   "metadata": {},
   "outputs": [
    {
     "data": {
      "text/html": [
       "<div>\n",
       "<style scoped>\n",
       "    .dataframe tbody tr th:only-of-type {\n",
       "        vertical-align: middle;\n",
       "    }\n",
       "\n",
       "    .dataframe tbody tr th {\n",
       "        vertical-align: top;\n",
       "    }\n",
       "\n",
       "    .dataframe thead th {\n",
       "        text-align: right;\n",
       "    }\n",
       "</style>\n",
       "<table border=\"1\" class=\"dataframe\">\n",
       "  <thead>\n",
       "    <tr style=\"text-align: right;\">\n",
       "      <th></th>\n",
       "      <th>Species</th>\n",
       "      <th>Season</th>\n",
       "      <th>Organ</th>\n",
       "      <th>Fish weight (g)</th>\n",
       "      <th>Fish length (cm)</th>\n",
       "      <th>Al</th>\n",
       "      <th>As</th>\n",
       "      <th>Cd</th>\n",
       "      <th>Cr</th>\n",
       "      <th>Cu</th>\n",
       "      <th>Fe</th>\n",
       "      <th>Mn</th>\n",
       "      <th>Pb</th>\n",
       "      <th>Sb</th>\n",
       "      <th>Se</th>\n",
       "      <th>Sr</th>\n",
       "      <th>Zn</th>\n",
       "    </tr>\n",
       "  </thead>\n",
       "  <tbody>\n",
       "    <tr>\n",
       "      <th>10</th>\n",
       "      <td>Oreochromis mossambicus</td>\n",
       "      <td>Summer</td>\n",
       "      <td>Gill</td>\n",
       "      <td>149.57</td>\n",
       "      <td>20.3</td>\n",
       "      <td>490.00</td>\n",
       "      <td>NaN</td>\n",
       "      <td>0.0217</td>\n",
       "      <td>2.0006</td>\n",
       "      <td>2.4566</td>\n",
       "      <td>530.28</td>\n",
       "      <td>100.580</td>\n",
       "      <td>0.8959</td>\n",
       "      <td>NaN</td>\n",
       "      <td>7.7732</td>\n",
       "      <td>127.11</td>\n",
       "      <td>65.149</td>\n",
       "    </tr>\n",
       "    <tr>\n",
       "      <th>11</th>\n",
       "      <td>Oreochromis mossambicus</td>\n",
       "      <td>Summer</td>\n",
       "      <td>Gill</td>\n",
       "      <td>119.85</td>\n",
       "      <td>18.1</td>\n",
       "      <td>666.93</td>\n",
       "      <td>NaN</td>\n",
       "      <td>0.0139</td>\n",
       "      <td>1.5394</td>\n",
       "      <td>2.4652</td>\n",
       "      <td>678.17</td>\n",
       "      <td>140.870</td>\n",
       "      <td>1.3152</td>\n",
       "      <td>NaN</td>\n",
       "      <td>0.2785</td>\n",
       "      <td>124.89</td>\n",
       "      <td>64.126</td>\n",
       "    </tr>\n",
       "    <tr>\n",
       "      <th>12</th>\n",
       "      <td>Oreochromis mossambicus</td>\n",
       "      <td>Summer</td>\n",
       "      <td>Gill</td>\n",
       "      <td>139.33</td>\n",
       "      <td>19.9</td>\n",
       "      <td>322.82</td>\n",
       "      <td>NaN</td>\n",
       "      <td>NaN</td>\n",
       "      <td>0.5926</td>\n",
       "      <td>2.1676</td>\n",
       "      <td>313.14</td>\n",
       "      <td>112.590</td>\n",
       "      <td>0.7872</td>\n",
       "      <td>NaN</td>\n",
       "      <td>5.3850</td>\n",
       "      <td>123.20</td>\n",
       "      <td>68.109</td>\n",
       "    </tr>\n",
       "    <tr>\n",
       "      <th>13</th>\n",
       "      <td>Oreochromis mossambicus</td>\n",
       "      <td>Summer</td>\n",
       "      <td>Gill</td>\n",
       "      <td>749.73</td>\n",
       "      <td>35.5</td>\n",
       "      <td>174.27</td>\n",
       "      <td>0.1447</td>\n",
       "      <td>0.0233</td>\n",
       "      <td>0.2566</td>\n",
       "      <td>1.4756</td>\n",
       "      <td>156.47</td>\n",
       "      <td>171.170</td>\n",
       "      <td>2.8679</td>\n",
       "      <td>NaN</td>\n",
       "      <td>1.5732</td>\n",
       "      <td>265.33</td>\n",
       "      <td>69.417</td>\n",
       "    </tr>\n",
       "    <tr>\n",
       "      <th>14</th>\n",
       "      <td>Oreochromis mossambicus</td>\n",
       "      <td>Summer</td>\n",
       "      <td>Gill</td>\n",
       "      <td>648.80</td>\n",
       "      <td>33.5</td>\n",
       "      <td>244.86</td>\n",
       "      <td>NaN</td>\n",
       "      <td>0.0178</td>\n",
       "      <td>1.3843</td>\n",
       "      <td>1.4832</td>\n",
       "      <td>260.84</td>\n",
       "      <td>64.735</td>\n",
       "      <td>0.6323</td>\n",
       "      <td>NaN</td>\n",
       "      <td>4.2322</td>\n",
       "      <td>125.69</td>\n",
       "      <td>49.485</td>\n",
       "    </tr>\n",
       "  </tbody>\n",
       "</table>\n",
       "</div>"
      ],
      "text/plain": [
       "                    Species  Season Organ  Fish weight (g)  Fish length (cm)  \\\n",
       "10  Oreochromis mossambicus  Summer  Gill           149.57              20.3   \n",
       "11  Oreochromis mossambicus  Summer  Gill           119.85              18.1   \n",
       "12  Oreochromis mossambicus  Summer  Gill           139.33              19.9   \n",
       "13  Oreochromis mossambicus  Summer  Gill           749.73              35.5   \n",
       "14  Oreochromis mossambicus  Summer  Gill           648.80              33.5   \n",
       "\n",
       "        Al      As      Cd      Cr      Cu      Fe       Mn      Pb  Sb  \\\n",
       "10  490.00     NaN  0.0217  2.0006  2.4566  530.28  100.580  0.8959 NaN   \n",
       "11  666.93     NaN  0.0139  1.5394  2.4652  678.17  140.870  1.3152 NaN   \n",
       "12  322.82     NaN     NaN  0.5926  2.1676  313.14  112.590  0.7872 NaN   \n",
       "13  174.27  0.1447  0.0233  0.2566  1.4756  156.47  171.170  2.8679 NaN   \n",
       "14  244.86     NaN  0.0178  1.3843  1.4832  260.84   64.735  0.6323 NaN   \n",
       "\n",
       "        Se      Sr      Zn  \n",
       "10  7.7732  127.11  65.149  \n",
       "11  0.2785  124.89  64.126  \n",
       "12  5.3850  123.20  68.109  \n",
       "13  1.5732  265.33  69.417  \n",
       "14  4.2322  125.69  49.485  "
      ]
     },
     "execution_count": 233,
     "metadata": {},
     "output_type": "execute_result"
    }
   ],
   "source": []
  },
  {
   "cell_type": "code",
   "execution_count": 252,
   "metadata": {},
   "outputs": [
    {
     "data": {
      "image/png": "[encoded data removed]",
      "text/plain": [
       "<Figure size 648x504 with 1 Axes>"
      ]
     },
     "metadata": {},
     "output_type": "display_data"
    }
   ],
   "source": [
    "sns.set_theme(style=\"ticks\")\n",
    "f, ax = plt.subplots(figsize=(9, 7))\n",
    "sns.boxplot(data = OM_Gill[all_metals], width=.6, palette = 'cubehelix' )\n",
    "ax.set_title('Oreochromis mossambicus - Gill', fontsize = 16)\n",
    "ax.set_ylabel('Concentration (mg/kg)',fontsize = 13)\n",
    "ax.set_xlabel('Metal',fontsize = 13)\n",
    "\n",
    "sns.despine(trim=True, left=True)"
   ]
  },
  {
   "cell_type": "code",
   "execution_count": 246,
   "metadata": {},
   "outputs": [
    {
     "data": {
      "image/png": "[encoded data removed]",
      "text/plain": [
       "<Figure size 648x504 with 1 Axes>"
      ]
     },
     "metadata": {},
     "output_type": "display_data"
    }
   ],
   "source": [
    "sns.set_theme(style=\"ticks\")\n",
    "f, ax = plt.subplots(figsize=(9, 7))\n",
    "sns.boxplot(data = OM_Liver[all_metals], width=.6 )\n",
    "ax.set_title('Oreochromis mossambicus - Liver', fontsize = 16)\n",
    "ax.set_ylabel('Concentration (mg/kg)',fontsize = 13)\n",
    "ax.set_xlabel('Metal',fontsize = 13)\n",
    "\n",
    "sns.despine(trim=True, left=True)"
   ]
  },
  {
   "cell_type": "code",
   "execution_count": 247,
   "metadata": {},
   "outputs": [
    {
     "data": {
      "image/png": "[encoded data removed]",
      "text/plain": [
       "<Figure size 648x504 with 1 Axes>"
      ]
     },
     "metadata": {},
     "output_type": "display_data"
    }
   ],
   "source": [
    "sns.set_theme(style=\"ticks\")\n",
    "f, ax = plt.subplots(figsize=(9, 7))\n",
    "sns.boxplot(data = OM_Muscle[all_metals], width=.6 )\n",
    "ax.set_title('Oreochromis mossambicus - Muscle', fontsize = 16)\n",
    "ax.set_ylabel('Concentration (mg/kg)',fontsize = 13)\n",
    "ax.set_xlabel('Metal',fontsize = 13)\n",
    "sns.despine(trim=True, left=True)"
   ]
  },
  {
   "cell_type": "code",
   "execution_count": null,
   "metadata": {},
   "outputs": [],
   "source": []
  },
  {
   "cell_type": "code",
   "execution_count": null,
   "metadata": {},
   "outputs": [],
   "source": []
  },
  {
   "cell_type": "code",
   "execution_count": null,
   "metadata": {},
   "outputs": [],
   "source": []
  },
  {
   "cell_type": "code",
   "execution_count": null,
   "metadata": {},
   "outputs": [],
   "source": []
  },
  {
   "cell_type": "code",
   "execution_count": null,
   "metadata": {},
   "outputs": [],
   "source": []
  },
  {
   "cell_type": "code",
   "execution_count": null,
   "metadata": {},
   "outputs": [],
   "source": []
  },
  {
   "cell_type": "code",
   "execution_count": null,
   "metadata": {},
   "outputs": [],
   "source": []
  },
  {
   "cell_type": "code",
   "execution_count": null,
   "metadata": {},
   "outputs": [],
   "source": []
  },
  {
   "cell_type": "code",
   "execution_count": null,
   "metadata": {},
   "outputs": [],
   "source": []
  },
  {
   "cell_type": "code",
   "execution_count": null,
   "metadata": {},
   "outputs": [],
   "source": []
  },
  {
   "cell_type": "code",
   "execution_count": null,
   "metadata": {},
   "outputs": [],
   "source": []
  },
  {
   "cell_type": "code",
   "execution_count": null,
   "metadata": {},
   "outputs": [],
   "source": []
  },
  {
   "cell_type": "code",
   "execution_count": null,
   "metadata": {},
   "outputs": [],
   "source": []
  },
  {
   "cell_type": "code",
   "execution_count": null,
   "metadata": {},
   "outputs": [],
   "source": []
  },
  {
   "cell_type": "code",
   "execution_count": 167,
   "metadata": {
    "scrolled": false
   },
   "outputs": [
    {
     "data": {
      "text/plain": [
       "Organ\n",
       "Gill      AxesSubplot(0.125,0.125;0.775x0.755)\n",
       "Liver     AxesSubplot(0.125,0.125;0.775x0.755)\n",
       "Muscle    AxesSubplot(0.125,0.125;0.775x0.755)\n",
       "dtype: object"
      ]
     },
     "execution_count": 167,
     "metadata": {},
     "output_type": "execute_result"
    },
    {
     "data": {
      "image/png": "[encoded data removed]",
      "text/plain": [
       "<Figure size 432x288 with 1 Axes>"
      ]
     },
     "metadata": {
      "needs_background": "light"
     },
     "output_type": "display_data"
    },
    {
     "data": {
      "image/png": "[encoded data removed]",
      "text/plain": [
       "<Figure size 432x288 with 1 Axes>"
      ]
     },
     "metadata": {
      "needs_background": "light"
     },
     "output_type": "display_data"
    },
    {
     "data": {
      "image/png": "[encoded data removed]",
      "text/plain": [
       "<Figure size 432x288 with 1 Axes>"
      ]
     },
     "metadata": {
      "needs_background": "light"
     },
     "output_type": "display_data"
    }
   ],
   "source": [
    "species_organ_OM[all_metals].plot.box()"
   ]
  },
  {
   "cell_type": "code",
   "execution_count": 11,
   "metadata": {
    "scrolled": false
   },
   "outputs": [
    {
     "data": {
      "text/plain": [
       "Organ\n",
       "Gill      AxesSubplot(0.125,0.125;0.775x0.755)\n",
       "Liver     AxesSubplot(0.125,0.125;0.775x0.755)\n",
       "Muscle    AxesSubplot(0.125,0.125;0.775x0.755)\n",
       "dtype: object"
      ]
     },
     "execution_count": 11,
     "metadata": {},
     "output_type": "execute_result"
    },
    {
     "data": {
      "image/png": "[encoded data removed]",
      "text/plain": [
       "<Figure size 432x288 with 1 Axes>"
      ]
     },
     "metadata": {
      "needs_background": "light"
     },
     "output_type": "display_data"
    },
    {
     "data": {
      "image/png": "[encoded data removed]",
      "text/plain": [
       "<Figure size 432x288 with 1 Axes>"
      ]
     },
     "metadata": {
      "needs_background": "light"
     },
     "output_type": "display_data"
    },
    {
     "data": {
      "image/png": "[encoded data removed]",
      "text/plain": [
       "<Figure size 432x288 with 1 Axes>"
      ]
     },
     "metadata": {
      "needs_background": "light"
     },
     "output_type": "display_data"
    }
   ],
   "source": [
    "\n",
    "species_organ_LR[all_metals].plot.box()"
   ]
  },
  {
   "cell_type": "code",
   "execution_count": null,
   "metadata": {},
   "outputs": [],
   "source": []
  },
  {
   "cell_type": "code",
   "execution_count": null,
   "metadata": {},
   "outputs": [],
   "source": []
  },
  {
   "cell_type": "code",
   "execution_count": null,
   "metadata": {},
   "outputs": [],
   "source": []
  },
  {
   "cell_type": "code",
   "execution_count": null,
   "metadata": {},
   "outputs": [],
   "source": []
  },
  {
   "cell_type": "code",
   "execution_count": null,
   "metadata": {},
   "outputs": [],
   "source": []
  }
 ],
 "metadata": {
  "kernelspec": {
   "display_name": "Python 3",
   "language": "python",
   "name": "python3"
  },
  "language_info": {
   "codemirror_mode": {
    "name": "ipython",
    "version": 3
   },
   "file_extension": ".py",
   "mimetype": "text/x-python",
   "name": "python",
   "nbconvert_exporter": "python",
   "pygments_lexer": "ipython3",
   "version": "3.7.7"
  }
 },
 "nbformat": 4,
 "nbformat_minor": 4
}
